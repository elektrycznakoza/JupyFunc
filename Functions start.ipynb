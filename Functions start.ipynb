{
 "cells": [
  {
   "cell_type": "code",
   "execution_count": 5,
   "id": "6de00e63",
   "metadata": {},
   "outputs": [
    {
     "name": "stdout",
     "output_type": "stream",
     "text": [
      "Koszyk zawiera: jajka\n",
      "bułka\n",
      "ser feta\n",
      "masło\n",
      "pomidor\n",
      "\n"
     ]
    }
   ],
   "source": [
    "def shopping():\n",
    "    shopping_items = [\n",
    "        \"jajka\",\n",
    "        \"bułka\",\n",
    "        \"ser feta\",\n",
    "        \"masło\",\n",
    "        \"pomidor\"\n",
    "    ]\n",
    "    shopping_cart = \"Koszyk zawiera: \"\n",
    "    for item in shopping_items:\n",
    "        shopping_cart += item + '\\n'\n",
    "    return shopping_cart\n",
    "shopping_result = shopping()\n",
    "print(shopping_result)"
   ]
  },
  {
   "cell_type": "code",
   "execution_count": 15,
   "id": "8e4578df",
   "metadata": {},
   "outputs": [],
   "source": [
    "shopping_items = [\n",
    "    \"jajka\",\n",
    "    \"bułka\",\n",
    "    \"ser feta\",\n",
    "    \"masło\",\n",
    "    \"pomidor\",\n",
    "    \"chusteczki\",\n",
    "    \"papier toaletowy\"\n",
    "]\n",
    "\n",
    "result = 0\n",
    "\n",
    "def shopping(items, payment='card', shop='local'):\n",
    "    result = shopping(shopping_items, 'card', 'supermarket')\n",
    "    return result\n"
   ]
  },
  {
   "cell_type": "code",
   "execution_count": 17,
   "id": "89b65a7d",
   "metadata": {},
   "outputs": [
    {
     "data": {
      "text/plain": [
       "0"
      ]
     },
     "execution_count": 17,
     "metadata": {},
     "output_type": "execute_result"
    }
   ],
   "source": [
    "x = 0\n",
    "x"
   ]
  }
 ],
 "metadata": {
  "kernelspec": {
   "display_name": "Python 3 (ipykernel)",
   "language": "python",
   "name": "python3"
  },
  "language_info": {
   "codemirror_mode": {
    "name": "ipython",
    "version": 3
   },
   "file_extension": ".py",
   "mimetype": "text/x-python",
   "name": "python",
   "nbconvert_exporter": "python",
   "pygments_lexer": "ipython3",
   "version": "3.11.5"
  }
 },
 "nbformat": 4,
 "nbformat_minor": 5
}
